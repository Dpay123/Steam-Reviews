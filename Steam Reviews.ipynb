{
 "cells": [
  {
   "cell_type": "code",
   "execution_count": 1,
   "id": "d3dd355e",
   "metadata": {},
   "outputs": [],
   "source": [
    "import pandas as pd\n",
    "import numpy as np"
   ]
  },
  {
   "cell_type": "markdown",
   "id": "ccf71aa0",
   "metadata": {},
   "source": [
    "# Data Loading\n",
    "Citation: Antoni Sobkowicz. (2017). Steam Review Dataset (2017) [Data set]. Zenodo. https://doi.org/10.5281/zenodo.1000885\n",
    "\n",
    "#### Creating A Random Subset \n",
    "The original source file is ~6.5 million records, ~700mb, so I used a Bash command to parse the source file for 1000 random records and create a subset to use for the machine learning model."
   ]
  },
  {
   "cell_type": "code",
   "execution_count": 7,
   "id": "c2a18715",
   "metadata": {},
   "outputs": [
    {
     "data": {
      "text/html": [
       "<div>\n",
       "<style scoped>\n",
       "    .dataframe tbody tr th:only-of-type {\n",
       "        vertical-align: middle;\n",
       "    }\n",
       "\n",
       "    .dataframe tbody tr th {\n",
       "        vertical-align: top;\n",
       "    }\n",
       "\n",
       "    .dataframe thead th {\n",
       "        text-align: right;\n",
       "    }\n",
       "</style>\n",
       "<table border=\"1\" class=\"dataframe\">\n",
       "  <thead>\n",
       "    <tr style=\"text-align: right;\">\n",
       "      <th></th>\n",
       "      <th>app_id</th>\n",
       "      <th>app_name</th>\n",
       "      <th>review_text</th>\n",
       "      <th>review_score</th>\n",
       "      <th>review_votes</th>\n",
       "    </tr>\n",
       "  </thead>\n",
       "  <tbody>\n",
       "    <tr>\n",
       "      <th>0</th>\n",
       "      <td>211420</td>\n",
       "      <td>DARK SOULS™: Prepare To Die Edition</td>\n",
       "      <td>Excellent game, especially after resolution/fr...</td>\n",
       "      <td>1</td>\n",
       "      <td>0</td>\n",
       "    </tr>\n",
       "    <tr>\n",
       "      <th>1</th>\n",
       "      <td>416130</td>\n",
       "      <td>Written in the Sky</td>\n",
       "      <td>Not a bad story after all. Music is really bad...</td>\n",
       "      <td>1</td>\n",
       "      <td>0</td>\n",
       "    </tr>\n",
       "    <tr>\n",
       "      <th>2</th>\n",
       "      <td>305620</td>\n",
       "      <td>The Long Dark</td>\n",
       "      <td>Early Access Review</td>\n",
       "      <td>1</td>\n",
       "      <td>0</td>\n",
       "    </tr>\n",
       "    <tr>\n",
       "      <th>3</th>\n",
       "      <td>242920</td>\n",
       "      <td>Banished</td>\n",
       "      <td>it is a rather good game which requires alittl...</td>\n",
       "      <td>1</td>\n",
       "      <td>0</td>\n",
       "    </tr>\n",
       "    <tr>\n",
       "      <th>4</th>\n",
       "      <td>274250</td>\n",
       "      <td>OlliOlli</td>\n",
       "      <td>Fun game that is frustratingly difficult at ti...</td>\n",
       "      <td>1</td>\n",
       "      <td>0</td>\n",
       "    </tr>\n",
       "  </tbody>\n",
       "</table>\n",
       "</div>"
      ],
      "text/plain": [
       "   app_id                             app_name  \\\n",
       "0  211420  DARK SOULS™: Prepare To Die Edition   \n",
       "1  416130                   Written in the Sky   \n",
       "2  305620                        The Long Dark   \n",
       "3  242920                             Banished   \n",
       "4  274250                             OlliOlli   \n",
       "\n",
       "                                         review_text  review_score  \\\n",
       "0  Excellent game, especially after resolution/fr...             1   \n",
       "1  Not a bad story after all. Music is really bad...             1   \n",
       "2                                Early Access Review             1   \n",
       "3  it is a rather good game which requires alittl...             1   \n",
       "4  Fun game that is frustratingly difficult at ti...             1   \n",
       "\n",
       "   review_votes  \n",
       "0             0  \n",
       "1             0  \n",
       "2             0  \n",
       "3             0  \n",
       "4             0  "
      ]
     },
     "execution_count": 7,
     "metadata": {},
     "output_type": "execute_result"
    }
   ],
   "source": [
    "path = 'random_subset.csv'\n",
    "df = pd.read_csv(path)\n",
    "df.head()\n",
    "\n"
   ]
  },
  {
   "cell_type": "code",
   "execution_count": null,
   "id": "2e5d1380",
   "metadata": {},
   "outputs": [],
   "source": []
  }
 ],
 "metadata": {
  "kernelspec": {
   "display_name": "Python 3 (ipykernel)",
   "language": "python",
   "name": "python3"
  },
  "language_info": {
   "codemirror_mode": {
    "name": "ipython",
    "version": 3
   },
   "file_extension": ".py",
   "mimetype": "text/x-python",
   "name": "python",
   "nbconvert_exporter": "python",
   "pygments_lexer": "ipython3",
   "version": "3.9.13"
  }
 },
 "nbformat": 4,
 "nbformat_minor": 5
}
