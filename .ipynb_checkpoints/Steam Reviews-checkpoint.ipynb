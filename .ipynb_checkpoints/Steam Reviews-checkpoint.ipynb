{
 "cells": [
  {
   "cell_type": "code",
   "execution_count": 40,
   "id": "d3dd355e",
   "metadata": {},
   "outputs": [],
   "source": [
    "import pandas as pd\n",
    "import numpy as np\n",
    "from sklearn.feature_extraction.text import re, TfidfVectorizer\n",
    "from sklearn.model_selection import train_test_split\n",
    "from sklearn.linear_model import LogisticRegression\n",
    "from sklearn.metrics import accuracy_score"
   ]
  },
  {
   "cell_type": "markdown",
   "id": "ccf71aa0",
   "metadata": {},
   "source": [
    "# Data Loading\n",
    "Data url: https://www.kaggle.com/datasets/andrewmvd/steam-reviews\n",
    "\n",
    "Citation: Antoni Sobkowicz. (2017). Steam Review Dataset (2017) [Data set]. Zenodo. https://doi.org/10.5281/zenodo.1000885"
   ]
  },
  {
   "cell_type": "markdown",
   "id": "4b82393c",
   "metadata": {},
   "source": [
    "#### Creating A Random Subset \n",
    "The original source file is ~6.5 million records, ~700mb, so I used a Bash command to parse the source file for 1000 random records and create a subset to use for the machine learning model.\n",
    "\n",
    "**$ head -n 1 dataset.csv > random_subset.csv && tail -n +2 dataset.csv | shuf -n 1000 >> random_subset.csv**"
   ]
  },
  {
   "cell_type": "markdown",
   "id": "0383f610",
   "metadata": {},
   "source": [
    "#### Importing/Cleaning the Data\n",
    "Drop any records with missing values, and drop non-relevant columns of ID and Name."
   ]
  },
  {
   "cell_type": "code",
   "execution_count": 24,
   "id": "c2a18715",
   "metadata": {},
   "outputs": [
    {
     "data": {
      "text/html": [
       "<div>\n",
       "<style scoped>\n",
       "    .dataframe tbody tr th:only-of-type {\n",
       "        vertical-align: middle;\n",
       "    }\n",
       "\n",
       "    .dataframe tbody tr th {\n",
       "        vertical-align: top;\n",
       "    }\n",
       "\n",
       "    .dataframe thead th {\n",
       "        text-align: right;\n",
       "    }\n",
       "</style>\n",
       "<table border=\"1\" class=\"dataframe\">\n",
       "  <thead>\n",
       "    <tr style=\"text-align: right;\">\n",
       "      <th></th>\n",
       "      <th>review_text</th>\n",
       "      <th>review_score</th>\n",
       "      <th>review_votes</th>\n",
       "    </tr>\n",
       "  </thead>\n",
       "  <tbody>\n",
       "    <tr>\n",
       "      <th>0</th>\n",
       "      <td>Excellent game, especially after resolution/fr...</td>\n",
       "      <td>1</td>\n",
       "      <td>0</td>\n",
       "    </tr>\n",
       "    <tr>\n",
       "      <th>1</th>\n",
       "      <td>Not a bad story after all. Music is really bad...</td>\n",
       "      <td>1</td>\n",
       "      <td>0</td>\n",
       "    </tr>\n",
       "    <tr>\n",
       "      <th>2</th>\n",
       "      <td>Early Access Review</td>\n",
       "      <td>1</td>\n",
       "      <td>0</td>\n",
       "    </tr>\n",
       "    <tr>\n",
       "      <th>3</th>\n",
       "      <td>it is a rather good game which requires alittl...</td>\n",
       "      <td>1</td>\n",
       "      <td>0</td>\n",
       "    </tr>\n",
       "    <tr>\n",
       "      <th>4</th>\n",
       "      <td>Fun game that is frustratingly difficult at ti...</td>\n",
       "      <td>1</td>\n",
       "      <td>0</td>\n",
       "    </tr>\n",
       "  </tbody>\n",
       "</table>\n",
       "</div>"
      ],
      "text/plain": [
       "                                         review_text  review_score  \\\n",
       "0  Excellent game, especially after resolution/fr...             1   \n",
       "1  Not a bad story after all. Music is really bad...             1   \n",
       "2                                Early Access Review             1   \n",
       "3  it is a rather good game which requires alittl...             1   \n",
       "4  Fun game that is frustratingly difficult at ti...             1   \n",
       "\n",
       "   review_votes  \n",
       "0             0  \n",
       "1             0  \n",
       "2             0  \n",
       "3             0  \n",
       "4             0  "
      ]
     },
     "execution_count": 24,
     "metadata": {},
     "output_type": "execute_result"
    }
   ],
   "source": [
    "path = 'random_subset.csv'\n",
    "raw = pd.read_csv(path)\n",
    "# drop null records\n",
    "df = raw.dropna()\n",
    "# drop unneeded id/name\n",
    "df = df.drop(columns=['app_id', 'app_name'])\n",
    "df.head()"
   ]
  },
  {
   "cell_type": "markdown",
   "id": "cdb6aca3",
   "metadata": {},
   "source": [
    "#### Pre-Processing text for the model\n",
    "Get rid of any punctuation, numbers, special characters, normalize to lower case."
   ]
  },
  {
   "cell_type": "code",
   "execution_count": 31,
   "id": "779f5258",
   "metadata": {},
   "outputs": [],
   "source": [
    "def clean_data(review):\n",
    "    # remove any character that is not let/num/space\n",
    "    no_punc = re.sub(r'[^\\w\\s]', '', review)\n",
    "    # remove any digits\n",
    "    no_digits = ''.join([i for i in no_punc if not i.isdigit()])\n",
    "    # return as lowercase\n",
    "    return(no_digits.lower())"
   ]
  },
  {
   "cell_type": "code",
   "execution_count": 29,
   "id": "f7fe6673",
   "metadata": {},
   "outputs": [
    {
     "data": {
      "text/plain": [
       "'Excellent game especially after resolutionframrate fix Got me scared not because its terrifying it has its moments though but because its friggin hard Seriously Its a game that takes time to learn and rewards patience and perseverance  Controller fuggin required though Dont even bother unless you have that gamepad'"
      ]
     },
     "execution_count": 29,
     "metadata": {},
     "output_type": "execute_result"
    }
   ],
   "source": [
    "df['review_text'][0]"
   ]
  },
  {
   "cell_type": "code",
   "execution_count": 33,
   "id": "83df7ec1",
   "metadata": {},
   "outputs": [
    {
     "data": {
      "text/plain": [
       "'excellent game especially after resolutionframrate fix got me scared not because its terrifying it has its moments though but because its friggin hard seriously its a game that takes time to learn and rewards patience and perseverance  controller fuggin required though dont even bother unless you have that gamepad'"
      ]
     },
     "execution_count": 33,
     "metadata": {},
     "output_type": "execute_result"
    }
   ],
   "source": [
    "df['review_text'] = df['review_text'].apply(clean_data)\n",
    "df['review_text'][0]"
   ]
  },
  {
   "cell_type": "markdown",
   "id": "4161f16e",
   "metadata": {},
   "source": [
    "#### Text Transformation\n",
    "Using built in sklearn method, transform text data into frequency vectors (mapping a word's frequency to its estimated importance)"
   ]
  },
  {
   "cell_type": "code",
   "execution_count": 35,
   "id": "565409bf",
   "metadata": {},
   "outputs": [],
   "source": [
    "tdidf = TfidfVectorizer(strip_accents=None,\n",
    "                       lowercase=False,\n",
    "                       preprocessor=None)\n",
    "\n",
    "X = tdidf.fit_transform(df['review_text'])"
   ]
  },
  {
   "cell_type": "markdown",
   "id": "202d9323",
   "metadata": {},
   "source": [
    "### Split the Dataset into Training/Testing"
   ]
  },
  {
   "cell_type": "code",
   "execution_count": 37,
   "id": "c904e84b",
   "metadata": {},
   "outputs": [],
   "source": [
    "y = df['review_score'] # target variable\n",
    "X_train, X_test, y_train, y_test = train_test_split(X, y)"
   ]
  },
  {
   "cell_type": "markdown",
   "id": "fcb6e4af",
   "metadata": {},
   "source": [
    "### Model"
   ]
  },
  {
   "cell_type": "code",
   "execution_count": 39,
   "id": "819ffadf",
   "metadata": {},
   "outputs": [],
   "source": [
    "lr = LogisticRegression(solver='liblinear')\n",
    "lr.fit(X_train, y_train)\n",
    "preds = lr.predict(X_test)"
   ]
  },
  {
   "cell_type": "markdown",
   "id": "12e29538",
   "metadata": {},
   "source": [
    "### Evaluate\n",
    "A random guess has a 50% chance of being correct (either the game is recommended or not) so we would ideally want a much higher success percentage or it would not be worth it"
   ]
  },
  {
   "cell_type": "code",
   "execution_count": 47,
   "id": "d63bda82",
   "metadata": {},
   "outputs": [
    {
     "name": "stdout",
     "output_type": "stream",
     "text": [
      "Accuracy: 82.04%\n"
     ]
    }
   ],
   "source": [
    "score = accuracy_score(preds,y_test)\n",
    "print(\"Accuracy: \" + \"{:.2%}\".format(score))"
   ]
  },
  {
   "cell_type": "code",
   "execution_count": null,
   "id": "e4b200f7",
   "metadata": {},
   "outputs": [],
   "source": []
  }
 ],
 "metadata": {
  "kernelspec": {
   "display_name": "Python 3 (ipykernel)",
   "language": "python",
   "name": "python3"
  },
  "language_info": {
   "codemirror_mode": {
    "name": "ipython",
    "version": 3
   },
   "file_extension": ".py",
   "mimetype": "text/x-python",
   "name": "python",
   "nbconvert_exporter": "python",
   "pygments_lexer": "ipython3",
   "version": "3.9.13"
  }
 },
 "nbformat": 4,
 "nbformat_minor": 5
}
